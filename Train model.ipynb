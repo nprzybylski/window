{
 "cells": [
  {
   "cell_type": "code",
   "execution_count": 1,
   "id": "574375d1",
   "metadata": {},
   "outputs": [],
   "source": [
    "from utils.util import *"
   ]
  },
  {
   "cell_type": "markdown",
   "id": "7142ad5a",
   "metadata": {},
   "source": [
    "## Change this string to '5sec' if you want to train a new model that uses all 5 seconds of raw data\n",
    "## Change this string to '1sec' if you want to train a new model that uses 1 second slices of raw data"
   ]
  },
  {
   "cell_type": "code",
   "execution_count": 2,
   "id": "c084924a",
   "metadata": {},
   "outputs": [],
   "source": [
    "train_width = '1sec'"
   ]
  },
  {
   "cell_type": "markdown",
   "id": "f06fe354",
   "metadata": {},
   "source": [
    "## This is NOT the raw data. It is each file summarized down into a single row if using the '5sec' model, or 5 rows if using the '1sec' model"
   ]
  },
  {
   "cell_type": "code",
   "execution_count": 3,
   "id": "23bcdc54",
   "metadata": {},
   "outputs": [
    {
     "data": {
      "text/html": [
       "<div>\n",
       "<style scoped>\n",
       "    .dataframe tbody tr th:only-of-type {\n",
       "        vertical-align: middle;\n",
       "    }\n",
       "\n",
       "    .dataframe tbody tr th {\n",
       "        vertical-align: top;\n",
       "    }\n",
       "\n",
       "    .dataframe thead th {\n",
       "        text-align: right;\n",
       "    }\n",
       "</style>\n",
       "<table border=\"1\" class=\"dataframe\">\n",
       "  <thead>\n",
       "    <tr style=\"text-align: right;\">\n",
       "      <th></th>\n",
       "      <th>axialUnderhang-Entropy</th>\n",
       "      <th>axialUnderhang-Kurtosis</th>\n",
       "      <th>axialUnderhang-Mean</th>\n",
       "      <th>axialUnderhang-F</th>\n",
       "      <th>axialUnderhang-2F</th>\n",
       "      <th>axialUnderhang-3F</th>\n",
       "      <th>axialOverhang-Entropy</th>\n",
       "      <th>axialOverhang-Kurtosis</th>\n",
       "      <th>axialOverhang-Mean</th>\n",
       "      <th>axialOverhang-F</th>\n",
       "      <th>...</th>\n",
       "      <th>microphone-F</th>\n",
       "      <th>microphone-2F</th>\n",
       "      <th>microphone-3F</th>\n",
       "      <th>tachometerSignal-Entropy</th>\n",
       "      <th>tachometerSignal-Kurtosis</th>\n",
       "      <th>tachometerSignal-Mean</th>\n",
       "      <th>fundamentalFrequency</th>\n",
       "      <th>class</th>\n",
       "      <th>path</th>\n",
       "      <th>startPoint</th>\n",
       "    </tr>\n",
       "  </thead>\n",
       "  <tbody>\n",
       "    <tr>\n",
       "      <th>0</th>\n",
       "      <td>10.633214</td>\n",
       "      <td>0.004950</td>\n",
       "      <td>0.009842</td>\n",
       "      <td>0.156278</td>\n",
       "      <td>0.101619</td>\n",
       "      <td>0.122819</td>\n",
       "      <td>10.463767</td>\n",
       "      <td>-0.110942</td>\n",
       "      <td>-0.009464</td>\n",
       "      <td>0.020566</td>\n",
       "      <td>...</td>\n",
       "      <td>0.022078</td>\n",
       "      <td>0.008598</td>\n",
       "      <td>0.021983</td>\n",
       "      <td>9.656114</td>\n",
       "      <td>1.898132</td>\n",
       "      <td>0.004390</td>\n",
       "      <td>61.00000</td>\n",
       "      <td>vertical-misalignment</td>\n",
       "      <td>full/vertical-misalignment/1.78mm/62.0544.csv</td>\n",
       "      <td>200000.0</td>\n",
       "    </tr>\n",
       "    <tr>\n",
       "      <th>1</th>\n",
       "      <td>10.628957</td>\n",
       "      <td>0.194001</td>\n",
       "      <td>0.008607</td>\n",
       "      <td>0.162711</td>\n",
       "      <td>0.167297</td>\n",
       "      <td>0.163898</td>\n",
       "      <td>10.505807</td>\n",
       "      <td>0.407069</td>\n",
       "      <td>0.017773</td>\n",
       "      <td>0.023624</td>\n",
       "      <td>...</td>\n",
       "      <td>0.021764</td>\n",
       "      <td>0.009035</td>\n",
       "      <td>0.021343</td>\n",
       "      <td>9.658679</td>\n",
       "      <td>2.001966</td>\n",
       "      <td>-0.006402</td>\n",
       "      <td>60.99878</td>\n",
       "      <td>vertical-misalignment</td>\n",
       "      <td>full/vertical-misalignment/1.78mm/62.0544.csv</td>\n",
       "      <td>150000.0</td>\n",
       "    </tr>\n",
       "    <tr>\n",
       "      <th>2</th>\n",
       "      <td>10.624347</td>\n",
       "      <td>-0.220687</td>\n",
       "      <td>0.009522</td>\n",
       "      <td>0.159777</td>\n",
       "      <td>0.133762</td>\n",
       "      <td>0.045357</td>\n",
       "      <td>10.473719</td>\n",
       "      <td>-0.221713</td>\n",
       "      <td>-0.000486</td>\n",
       "      <td>0.010891</td>\n",
       "      <td>...</td>\n",
       "      <td>0.021401</td>\n",
       "      <td>0.008802</td>\n",
       "      <td>0.020001</td>\n",
       "      <td>9.643273</td>\n",
       "      <td>1.864986</td>\n",
       "      <td>0.004954</td>\n",
       "      <td>60.99878</td>\n",
       "      <td>vertical-misalignment</td>\n",
       "      <td>full/vertical-misalignment/1.78mm/62.0544.csv</td>\n",
       "      <td>100000.0</td>\n",
       "    </tr>\n",
       "    <tr>\n",
       "      <th>3</th>\n",
       "      <td>10.620357</td>\n",
       "      <td>-0.254865</td>\n",
       "      <td>0.009031</td>\n",
       "      <td>0.162775</td>\n",
       "      <td>0.093203</td>\n",
       "      <td>0.075060</td>\n",
       "      <td>10.451755</td>\n",
       "      <td>-0.086090</td>\n",
       "      <td>-0.012446</td>\n",
       "      <td>0.016143</td>\n",
       "      <td>...</td>\n",
       "      <td>0.022151</td>\n",
       "      <td>0.010173</td>\n",
       "      <td>0.021473</td>\n",
       "      <td>9.649679</td>\n",
       "      <td>1.952311</td>\n",
       "      <td>-0.007070</td>\n",
       "      <td>60.99878</td>\n",
       "      <td>vertical-misalignment</td>\n",
       "      <td>full/vertical-misalignment/1.78mm/62.0544.csv</td>\n",
       "      <td>50000.0</td>\n",
       "    </tr>\n",
       "    <tr>\n",
       "      <th>4</th>\n",
       "      <td>10.631042</td>\n",
       "      <td>-0.154502</td>\n",
       "      <td>0.008411</td>\n",
       "      <td>0.168113</td>\n",
       "      <td>0.088672</td>\n",
       "      <td>0.106329</td>\n",
       "      <td>10.447604</td>\n",
       "      <td>-0.386185</td>\n",
       "      <td>0.026383</td>\n",
       "      <td>0.015667</td>\n",
       "      <td>...</td>\n",
       "      <td>0.022520</td>\n",
       "      <td>0.009568</td>\n",
       "      <td>0.022267</td>\n",
       "      <td>9.644393</td>\n",
       "      <td>1.889186</td>\n",
       "      <td>0.006114</td>\n",
       "      <td>60.99878</td>\n",
       "      <td>vertical-misalignment</td>\n",
       "      <td>full/vertical-misalignment/1.78mm/62.0544.csv</td>\n",
       "      <td>0.0</td>\n",
       "    </tr>\n",
       "  </tbody>\n",
       "</table>\n",
       "<p>5 rows × 49 columns</p>\n",
       "</div>"
      ],
      "text/plain": [
       "   axialUnderhang-Entropy  axialUnderhang-Kurtosis  axialUnderhang-Mean  \\\n",
       "0               10.633214                 0.004950             0.009842   \n",
       "1               10.628957                 0.194001             0.008607   \n",
       "2               10.624347                -0.220687             0.009522   \n",
       "3               10.620357                -0.254865             0.009031   \n",
       "4               10.631042                -0.154502             0.008411   \n",
       "\n",
       "   axialUnderhang-F  axialUnderhang-2F  axialUnderhang-3F  \\\n",
       "0          0.156278           0.101619           0.122819   \n",
       "1          0.162711           0.167297           0.163898   \n",
       "2          0.159777           0.133762           0.045357   \n",
       "3          0.162775           0.093203           0.075060   \n",
       "4          0.168113           0.088672           0.106329   \n",
       "\n",
       "   axialOverhang-Entropy  axialOverhang-Kurtosis  axialOverhang-Mean  \\\n",
       "0              10.463767               -0.110942           -0.009464   \n",
       "1              10.505807                0.407069            0.017773   \n",
       "2              10.473719               -0.221713           -0.000486   \n",
       "3              10.451755               -0.086090           -0.012446   \n",
       "4              10.447604               -0.386185            0.026383   \n",
       "\n",
       "   axialOverhang-F  ...  microphone-F  microphone-2F  microphone-3F  \\\n",
       "0         0.020566  ...      0.022078       0.008598       0.021983   \n",
       "1         0.023624  ...      0.021764       0.009035       0.021343   \n",
       "2         0.010891  ...      0.021401       0.008802       0.020001   \n",
       "3         0.016143  ...      0.022151       0.010173       0.021473   \n",
       "4         0.015667  ...      0.022520       0.009568       0.022267   \n",
       "\n",
       "   tachometerSignal-Entropy  tachometerSignal-Kurtosis  tachometerSignal-Mean  \\\n",
       "0                  9.656114                   1.898132               0.004390   \n",
       "1                  9.658679                   2.001966              -0.006402   \n",
       "2                  9.643273                   1.864986               0.004954   \n",
       "3                  9.649679                   1.952311              -0.007070   \n",
       "4                  9.644393                   1.889186               0.006114   \n",
       "\n",
       "   fundamentalFrequency                  class  \\\n",
       "0              61.00000  vertical-misalignment   \n",
       "1              60.99878  vertical-misalignment   \n",
       "2              60.99878  vertical-misalignment   \n",
       "3              60.99878  vertical-misalignment   \n",
       "4              60.99878  vertical-misalignment   \n",
       "\n",
       "                                            path  startPoint  \n",
       "0  full/vertical-misalignment/1.78mm/62.0544.csv    200000.0  \n",
       "1  full/vertical-misalignment/1.78mm/62.0544.csv    150000.0  \n",
       "2  full/vertical-misalignment/1.78mm/62.0544.csv    100000.0  \n",
       "3  full/vertical-misalignment/1.78mm/62.0544.csv     50000.0  \n",
       "4  full/vertical-misalignment/1.78mm/62.0544.csv         0.0  \n",
       "\n",
       "[5 rows x 49 columns]"
      ]
     },
     "execution_count": 3,
     "metadata": {},
     "output_type": "execute_result"
    }
   ],
   "source": [
    "df = pd.read_csv(f'../data/complex_mafaulda_{train_width}.csv')\n",
    "df.head()"
   ]
  },
  {
   "cell_type": "code",
   "execution_count": 6,
   "id": "6847166b",
   "metadata": {},
   "outputs": [
    {
     "data": {
      "text/plain": [
       "{'horizontal-misalignment': 0,\n",
       " 'imbalance': 1,\n",
       " 'normal': 2,\n",
       " 'overhang': 3,\n",
       " 'underhang': 4,\n",
       " 'vertical-misalignment': 5}"
      ]
     },
     "execution_count": 6,
     "metadata": {},
     "output_type": "execute_result"
    }
   ],
   "source": [
    "# make our class dictionary\n",
    "keys = list(np.unique(df['class']))\n",
    "codes = [int(_) for _ in np.arange(0,len(keys))]\n",
    "classDict = dict(zip(keys,codes))\n",
    "\n",
    "df['CLASS'] = df['class']\n",
    "df['class'] = df['class'].map(classDict)\n",
    "\n",
    "classDict"
   ]
  },
  {
   "cell_type": "code",
   "execution_count": 7,
   "id": "4959cc8b",
   "metadata": {},
   "outputs": [
    {
     "name": "stdout",
     "output_type": "stream",
     "text": [
      "Length of train set: 7804\n",
      "Length of test set: 1951\n"
     ]
    }
   ],
   "source": [
    "drop = ['class','path','CLASS']\n",
    "if 'startPoint' in df:\n",
    "    drop.append('startPoint')\n",
    "X = df.drop(columns=drop)\n",
    "y = df['class']\n",
    "\n",
    "X_train, X_test, y_train, y_test = train_test_split(X, y, test_size=0.2, \n",
    "                                                    shuffle=True, random_state=45,\n",
    "                                                    stratify=None)\n",
    "\n",
    "print(f'Length of train set: {len(X_train)}')\n",
    "print(f'Length of test set: {len(X_test)}')"
   ]
  },
  {
   "cell_type": "code",
   "execution_count": 8,
   "id": "79ca381e",
   "metadata": {},
   "outputs": [
    {
     "data": {
      "text/plain": [
       "['./models/rfc_1sec.joblib']"
      ]
     },
     "execution_count": 8,
     "metadata": {},
     "output_type": "execute_result"
    },
    {
     "data": {
      "image/png": "[encoded data removed]",
      "text/plain": [
       "<Figure size 1440x576 with 3 Axes>"
      ]
     },
     "metadata": {
      "needs_background": "light"
     },
     "output_type": "display_data"
    }
   ],
   "source": [
    "# used by the confusion_hist_plot function\n",
    "target = 'class'\n",
    "\n",
    "# define the model\n",
    "model = RandomForestClassifier()\n",
    "\n",
    "# train the model\n",
    "model.fit(X_train, y_train)\n",
    "\n",
    "# try to predict the data points we set aside for testing\n",
    "preds = model.predict(X_test)\n",
    "\n",
    "#plot our results\n",
    "confusion_hist_plot(df=df,y_test=y_test,preds=preds,codes=classDict);\n",
    "\n",
    "# save the model\n",
    "joblib.dump(model, f'./models/rfc_{train_width}.joblib')"
   ]
  },
  {
   "cell_type": "code",
   "execution_count": 9,
   "id": "0655a7ac",
   "metadata": {},
   "outputs": [],
   "source": [
    "# These indices tell us which files we will need to pull from to re-summarize subsamples of the data for\n",
    "# our sliding window\n",
    "idxs = X_test.index\n",
    "idxs = [int(_) for _ in idxs]\n",
    "\n",
    "val_files = df[['path','class','CLASS']].iloc[idxs]\n",
    "val_files.head()\n",
    "val_files.to_csv(f'./utils/test_files_{train_width}.csv')"
   ]
  },
  {
   "cell_type": "code",
   "execution_count": null,
   "id": "d62386f0",
   "metadata": {},
   "outputs": [],
   "source": []
  }
 ],
 "metadata": {
  "kernelspec": {
   "display_name": "env",
   "language": "python",
   "name": "env"
  },
  "language_info": {
   "codemirror_mode": {
    "name": "ipython",
    "version": 3
   },
   "file_extension": ".py",
   "mimetype": "text/x-python",
   "name": "python",
   "nbconvert_exporter": "python",
   "pygments_lexer": "ipython3",
   "version": "3.9.5"
  }
 },
 "nbformat": 4,
 "nbformat_minor": 5
}
