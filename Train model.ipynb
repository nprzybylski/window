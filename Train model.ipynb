{
 "cells": [
  {
   "cell_type": "code",
   "execution_count": 1,
   "id": "574375d1",
   "metadata": {},
   "outputs": [],
   "source": [
    "from utils.util import *"
   ]
  },
  {
   "cell_type": "markdown",
   "id": "f06fe354",
   "metadata": {},
   "source": [
    "## This is NOT the raw data. It is each file summarized down into a single row if using the '5sec' model, or 5 rows if using the '1sec' model"
   ]
  },
  {
   "cell_type": "code",
   "execution_count": 2,
   "id": "c0bbcf66",
   "metadata": {},
   "outputs": [
    {
     "data": {
      "text/html": [
       "<div>\n",
       "<style scoped>\n",
       "    .dataframe tbody tr th:only-of-type {\n",
       "        vertical-align: middle;\n",
       "    }\n",
       "\n",
       "    .dataframe tbody tr th {\n",
       "        vertical-align: top;\n",
       "    }\n",
       "\n",
       "    .dataframe thead th {\n",
       "        text-align: right;\n",
       "    }\n",
       "</style>\n",
       "<table border=\"1\" class=\"dataframe\">\n",
       "  <thead>\n",
       "    <tr style=\"text-align: right;\">\n",
       "      <th></th>\n",
       "      <th>axialUnderhang-Entropy</th>\n",
       "      <th>axialUnderhang-Kurtosis</th>\n",
       "      <th>axialUnderhang-Mean</th>\n",
       "      <th>axialUnderhang-F</th>\n",
       "      <th>axialUnderhang-2F</th>\n",
       "      <th>axialUnderhang-3F</th>\n",
       "      <th>axialOverhang-Entropy</th>\n",
       "      <th>axialOverhang-Kurtosis</th>\n",
       "      <th>axialOverhang-Mean</th>\n",
       "      <th>axialOverhang-F</th>\n",
       "      <th>...</th>\n",
       "      <th>microphone-Mean</th>\n",
       "      <th>microphone-F</th>\n",
       "      <th>microphone-2F</th>\n",
       "      <th>microphone-3F</th>\n",
       "      <th>tachometerSignal-Entropy</th>\n",
       "      <th>tachometerSignal-Kurtosis</th>\n",
       "      <th>tachometerSignal-Mean</th>\n",
       "      <th>fundamentalFrequency</th>\n",
       "      <th>class</th>\n",
       "      <th>path</th>\n",
       "    </tr>\n",
       "  </thead>\n",
       "  <tbody>\n",
       "    <tr>\n",
       "      <th>0</th>\n",
       "      <td>11.700423</td>\n",
       "      <td>-0.028423</td>\n",
       "      <td>0.009096</td>\n",
       "      <td>0.209861</td>\n",
       "      <td>0.089478</td>\n",
       "      <td>0.081119</td>\n",
       "      <td>11.251919</td>\n",
       "      <td>0.144682</td>\n",
       "      <td>0.004352</td>\n",
       "      <td>0.020866</td>\n",
       "      <td>...</td>\n",
       "      <td>0.011994</td>\n",
       "      <td>0.028085</td>\n",
       "      <td>0.006391</td>\n",
       "      <td>0.022628</td>\n",
       "      <td>10.081655</td>\n",
       "      <td>1.920819</td>\n",
       "      <td>0.000409</td>\n",
       "      <td>60.6</td>\n",
       "      <td>vertical-misalignment</td>\n",
       "      <td>full/vertical-misalignment/1.78mm/62.0544.csv</td>\n",
       "    </tr>\n",
       "    <tr>\n",
       "      <th>1</th>\n",
       "      <td>11.691405</td>\n",
       "      <td>-0.315841</td>\n",
       "      <td>0.009299</td>\n",
       "      <td>0.171966</td>\n",
       "      <td>0.080338</td>\n",
       "      <td>0.063176</td>\n",
       "      <td>11.453312</td>\n",
       "      <td>0.634057</td>\n",
       "      <td>0.018882</td>\n",
       "      <td>0.015441</td>\n",
       "      <td>...</td>\n",
       "      <td>0.011745</td>\n",
       "      <td>0.025441</td>\n",
       "      <td>0.006911</td>\n",
       "      <td>0.024714</td>\n",
       "      <td>10.098573</td>\n",
       "      <td>2.051371</td>\n",
       "      <td>0.001856</td>\n",
       "      <td>59.2</td>\n",
       "      <td>vertical-misalignment</td>\n",
       "      <td>full/vertical-misalignment/1.78mm/60.6208.csv</td>\n",
       "    </tr>\n",
       "    <tr>\n",
       "      <th>2</th>\n",
       "      <td>11.691603</td>\n",
       "      <td>-0.314269</td>\n",
       "      <td>0.008901</td>\n",
       "      <td>0.167616</td>\n",
       "      <td>0.196603</td>\n",
       "      <td>0.045823</td>\n",
       "      <td>11.107915</td>\n",
       "      <td>0.434333</td>\n",
       "      <td>-0.011894</td>\n",
       "      <td>0.031162</td>\n",
       "      <td>...</td>\n",
       "      <td>0.011845</td>\n",
       "      <td>0.032116</td>\n",
       "      <td>0.021273</td>\n",
       "      <td>0.017417</td>\n",
       "      <td>10.207887</td>\n",
       "      <td>2.071535</td>\n",
       "      <td>-0.001486</td>\n",
       "      <td>58.6</td>\n",
       "      <td>vertical-misalignment</td>\n",
       "      <td>full/vertical-misalignment/1.78mm/60.0064.csv</td>\n",
       "    </tr>\n",
       "    <tr>\n",
       "      <th>3</th>\n",
       "      <td>11.715946</td>\n",
       "      <td>-0.040901</td>\n",
       "      <td>0.008365</td>\n",
       "      <td>0.172601</td>\n",
       "      <td>0.067104</td>\n",
       "      <td>0.116394</td>\n",
       "      <td>11.246643</td>\n",
       "      <td>0.829039</td>\n",
       "      <td>0.005535</td>\n",
       "      <td>0.022489</td>\n",
       "      <td>...</td>\n",
       "      <td>0.012393</td>\n",
       "      <td>0.027578</td>\n",
       "      <td>0.006499</td>\n",
       "      <td>0.020195</td>\n",
       "      <td>10.088735</td>\n",
       "      <td>2.064658</td>\n",
       "      <td>-0.001532</td>\n",
       "      <td>57.2</td>\n",
       "      <td>vertical-misalignment</td>\n",
       "      <td>full/vertical-misalignment/1.78mm/58.5728.csv</td>\n",
       "    </tr>\n",
       "    <tr>\n",
       "      <th>4</th>\n",
       "      <td>11.713568</td>\n",
       "      <td>-0.129168</td>\n",
       "      <td>0.008913</td>\n",
       "      <td>0.164138</td>\n",
       "      <td>0.064997</td>\n",
       "      <td>0.150388</td>\n",
       "      <td>11.184626</td>\n",
       "      <td>-0.092772</td>\n",
       "      <td>0.009297</td>\n",
       "      <td>0.017579</td>\n",
       "      <td>...</td>\n",
       "      <td>0.012543</td>\n",
       "      <td>0.025544</td>\n",
       "      <td>0.007792</td>\n",
       "      <td>0.023317</td>\n",
       "      <td>10.097232</td>\n",
       "      <td>2.038316</td>\n",
       "      <td>-0.000936</td>\n",
       "      <td>56.0</td>\n",
       "      <td>vertical-misalignment</td>\n",
       "      <td>full/vertical-misalignment/1.78mm/57.344.csv</td>\n",
       "    </tr>\n",
       "  </tbody>\n",
       "</table>\n",
       "<p>5 rows × 48 columns</p>\n",
       "</div>"
      ],
      "text/plain": [
       "   axialUnderhang-Entropy  axialUnderhang-Kurtosis  axialUnderhang-Mean  \\\n",
       "0               11.700423                -0.028423             0.009096   \n",
       "1               11.691405                -0.315841             0.009299   \n",
       "2               11.691603                -0.314269             0.008901   \n",
       "3               11.715946                -0.040901             0.008365   \n",
       "4               11.713568                -0.129168             0.008913   \n",
       "\n",
       "   axialUnderhang-F  axialUnderhang-2F  axialUnderhang-3F  \\\n",
       "0          0.209861           0.089478           0.081119   \n",
       "1          0.171966           0.080338           0.063176   \n",
       "2          0.167616           0.196603           0.045823   \n",
       "3          0.172601           0.067104           0.116394   \n",
       "4          0.164138           0.064997           0.150388   \n",
       "\n",
       "   axialOverhang-Entropy  axialOverhang-Kurtosis  axialOverhang-Mean  \\\n",
       "0              11.251919                0.144682            0.004352   \n",
       "1              11.453312                0.634057            0.018882   \n",
       "2              11.107915                0.434333           -0.011894   \n",
       "3              11.246643                0.829039            0.005535   \n",
       "4              11.184626               -0.092772            0.009297   \n",
       "\n",
       "   axialOverhang-F  ...  microphone-Mean  microphone-F  microphone-2F  \\\n",
       "0         0.020866  ...         0.011994      0.028085       0.006391   \n",
       "1         0.015441  ...         0.011745      0.025441       0.006911   \n",
       "2         0.031162  ...         0.011845      0.032116       0.021273   \n",
       "3         0.022489  ...         0.012393      0.027578       0.006499   \n",
       "4         0.017579  ...         0.012543      0.025544       0.007792   \n",
       "\n",
       "   microphone-3F  tachometerSignal-Entropy  tachometerSignal-Kurtosis  \\\n",
       "0       0.022628                 10.081655                   1.920819   \n",
       "1       0.024714                 10.098573                   2.051371   \n",
       "2       0.017417                 10.207887                   2.071535   \n",
       "3       0.020195                 10.088735                   2.064658   \n",
       "4       0.023317                 10.097232                   2.038316   \n",
       "\n",
       "   tachometerSignal-Mean  fundamentalFrequency                  class  \\\n",
       "0               0.000409                  60.6  vertical-misalignment   \n",
       "1               0.001856                  59.2  vertical-misalignment   \n",
       "2              -0.001486                  58.6  vertical-misalignment   \n",
       "3              -0.001532                  57.2  vertical-misalignment   \n",
       "4              -0.000936                  56.0  vertical-misalignment   \n",
       "\n",
       "                                            path  \n",
       "0  full/vertical-misalignment/1.78mm/62.0544.csv  \n",
       "1  full/vertical-misalignment/1.78mm/60.6208.csv  \n",
       "2  full/vertical-misalignment/1.78mm/60.0064.csv  \n",
       "3  full/vertical-misalignment/1.78mm/58.5728.csv  \n",
       "4   full/vertical-misalignment/1.78mm/57.344.csv  \n",
       "\n",
       "[5 rows x 48 columns]"
      ]
     },
     "execution_count": 2,
     "metadata": {},
     "output_type": "execute_result"
    }
   ],
   "source": [
    "df_5sec = pd.read_csv(f'../data/complex_mafaulda_5sec.csv')\n",
    "df_1sec = pd.read_csv(f'../data/complex_mafaulda_1sec.csv')\n",
    "df_5sec.head()"
   ]
  },
  {
   "cell_type": "code",
   "execution_count": 3,
   "id": "6847166b",
   "metadata": {},
   "outputs": [
    {
     "data": {
      "text/plain": [
       "{'horizontal-misalignment': 0,\n",
       " 'imbalance': 1,\n",
       " 'normal': 2,\n",
       " 'overhang': 3,\n",
       " 'underhang': 4,\n",
       " 'vertical-misalignment': 5}"
      ]
     },
     "execution_count": 3,
     "metadata": {},
     "output_type": "execute_result"
    }
   ],
   "source": [
    "# make our class dictionary\n",
    "keys = list(np.unique(df_5sec['class']))\n",
    "codes = [int(_) for _ in np.arange(0,len(keys))]\n",
    "classDict = dict(zip(keys,codes))\n",
    "\n",
    "df_5sec['CLASS'] = df_5sec['class']\n",
    "df_5sec['class'] = df_5sec['class'].map(classDict)\n",
    "\n",
    "df_1sec['CLASS'] = df_1sec['class']\n",
    "df_1sec['class'] = df_1sec['class'].map(classDict)\n",
    "\n",
    "classDict"
   ]
  },
  {
   "cell_type": "markdown",
   "id": "44678c62",
   "metadata": {},
   "source": [
    "# First, do train/test split for 5sec data\n",
    "# Then, use the same split for 1sec data\n",
    "# This way, any file can be used to compare accuracy between the two models"
   ]
  },
  {
   "cell_type": "code",
   "execution_count": 4,
   "id": "4959cc8b",
   "metadata": {},
   "outputs": [
    {
     "name": "stdout",
     "output_type": "stream",
     "text": [
      "Length of train set: 1560\n",
      "Length of test set: 391\n"
     ]
    }
   ],
   "source": [
    "drop = ['class','path','CLASS']\n",
    "if 'startPoint' in df_5sec:\n",
    "    drop.append('startPoint')\n",
    "X5 = df_5sec.drop(columns=drop)\n",
    "y5 = df_5sec['class']\n",
    "\n",
    "X5_train, X5_test, y5_train, y5_test = train_test_split(X5, y5, test_size=0.2, \n",
    "                                                    shuffle=True, random_state=45,\n",
    "                                                    stratify=None)\n",
    "\n",
    "print(f'Length of train set: {len(X5_train)}')\n",
    "print(f'Length of test set: {len(X5_test)}')"
   ]
  },
  {
   "cell_type": "code",
   "execution_count": 5,
   "id": "79ca381e",
   "metadata": {},
   "outputs": [
    {
     "data": {
      "text/plain": [
       "['./models/test_rfc_5sec.joblib']"
      ]
     },
     "execution_count": 5,
     "metadata": {},
     "output_type": "execute_result"
    },
    {
     "data": {
      "image/png": "[encoded data removed]",
      "text/plain": [
       "<Figure size 1440x576 with 3 Axes>"
      ]
     },
     "metadata": {
      "needs_background": "light"
     },
     "output_type": "display_data"
    }
   ],
   "source": [
    "# used by the confusion_hist_plot function\n",
    "target = 'class'\n",
    "\n",
    "# define the model\n",
    "model = RandomForestClassifier()\n",
    "\n",
    "# train the model\n",
    "model.fit(X5_train, y5_train)\n",
    "\n",
    "# try to predict the data points we set aside for testing\n",
    "preds5 = model.predict(X5_test)\n",
    "\n",
    "#plot our results\n",
    "confusion_hist_plot(df=df_5sec,y_test=y5_test,preds=preds5,codes=classDict);\n",
    "\n",
    "# save the model\n",
    "joblib.dump(model, f'./models/rfc_5sec.joblib')"
   ]
  },
  {
   "cell_type": "code",
   "execution_count": 6,
   "id": "0655a7ac",
   "metadata": {},
   "outputs": [],
   "source": [
    "# These indices tell us which files we will need to pull from to re-summarize subsamples of the data for\n",
    "# our sliding window\n",
    "idxs = X5_test.index\n",
    "idxs = [int(_) for _ in idxs]\n",
    "\n",
    "val_files5 = df_5sec[['path','class','CLASS']].iloc[idxs]\n",
    "val_files5.head()\n",
    "val_files5.to_csv(f'./utils/test_files_5sec.csv')"
   ]
  },
  {
   "cell_type": "markdown",
   "id": "8b503caf",
   "metadata": {},
   "source": [
    "# For every file in the 5sec dataset, there are 5 files in the 1sec dataset. This is how to find those indices in the 1sec dataset"
   ]
  },
  {
   "cell_type": "code",
   "execution_count": 7,
   "id": "d62386f0",
   "metadata": {},
   "outputs": [],
   "source": [
    "index1 = []\n",
    "for i in X5_train.index:\n",
    "    I = i*5\n",
    "    index1.extend([I,I+1,I+2,I+3,I+4])"
   ]
  },
  {
   "cell_type": "code",
   "execution_count": 8,
   "id": "0be22aad",
   "metadata": {},
   "outputs": [],
   "source": [
    "train1 = df_1sec.loc[index1]\n",
    "if 'startPoint' in df_1sec:\n",
    "    drop.append('startPoint')\n",
    "X1_train = train1.drop(columns=drop)\n",
    "y1_train = train1['class']\n",
    "\n",
    "test1 = df_1sec.drop(index=index1)\n",
    "X1_test = test1.drop(columns=drop)\n",
    "y1_test = test1['class']"
   ]
  },
  {
   "cell_type": "code",
   "execution_count": 9,
   "id": "64ba9357",
   "metadata": {},
   "outputs": [
    {
     "data": {
      "text/plain": [
       "['./models/test_rfc_1sec.joblib']"
      ]
     },
     "execution_count": 9,
     "metadata": {},
     "output_type": "execute_result"
    },
    {
     "data": {
      "image/png": "[encoded data removed]",
      "text/plain": [
       "<Figure size 1440x576 with 3 Axes>"
      ]
     },
     "metadata": {
      "needs_background": "light"
     },
     "output_type": "display_data"
    }
   ],
   "source": [
    "# used by the confusion_hist_plot function\n",
    "target = 'class'\n",
    "\n",
    "# define the model\n",
    "model = RandomForestClassifier()\n",
    "\n",
    "# train the model\n",
    "model.fit(X1_train, y1_train)\n",
    "\n",
    "# try to predict the data points we set aside for testing\n",
    "preds1 = model.predict(X1_test)\n",
    "\n",
    "#plot our results\n",
    "confusion_hist_plot(df=df_1sec,y_test=y1_test,preds=preds1,codes=classDict);\n",
    "joblib.dump(model, f'./models/rfc_1sec.joblib')"
   ]
  },
  {
   "cell_type": "code",
   "execution_count": 10,
   "id": "6d4a4619",
   "metadata": {},
   "outputs": [],
   "source": [
    "# These indices tell us which files we will need to pull from to re-summarize subsamples of the data for\n",
    "# our sliding window\n",
    "idxs = X1_test.index\n",
    "idxs = [int(_) for _ in idxs]\n",
    "\n",
    "val_files1 = df_1sec[['path','class','CLASS']].iloc[idxs]\n",
    "val_files1.head()\n",
    "val_files1.to_csv(f'./utils/test_files_1sec.csv')"
   ]
  },
  {
   "cell_type": "markdown",
   "id": "95d1c7d2",
   "metadata": {},
   "source": [
    "# Print out of some example files from each class. You will manually need to enter these file names into a config file for tests with specific file names"
   ]
  },
  {
   "cell_type": "code",
   "execution_count": 14,
   "id": "5072ecc8",
   "metadata": {},
   "outputs": [
    {
     "name": "stdout",
     "output_type": "stream",
     "text": [
      "horizontal-misalignment\n",
      "1221    full/horizontal-misalignment/0.5mm/32.3584.csv\n",
      "1270    full/horizontal-misalignment/1.5mm/33.9968.csv\n",
      "1370    full/horizontal-misalignment/1.0mm/30.5152.csv\n",
      "1204    full/horizontal-misalignment/0.5mm/49.5616.csv\n",
      "1381    full/horizontal-misalignment/1.0mm/19.6608.csv\n",
      "Name: path, dtype: object\n",
      "---------------------------\n",
      "imbalance\n",
      "1163    full/imbalance/20g/41.5744.csv\n",
      "1190     full/imbalance/20g/14.336.csv\n",
      "953     full/imbalance/30g/12.0832.csv\n",
      "1093    full/imbalance/10g/17.2032.csv\n",
      "885     full/imbalance/15g/36.0448.csv\n",
      "Name: path, dtype: object\n",
      "---------------------------\n",
      "normal\n",
      "1420    full/normal/29.4912.csv\n",
      "1402    full/normal/47.7184.csv\n",
      "1396    full/normal/54.6816.csv\n",
      "1399    full/normal/51.8144.csv\n",
      "1398    full/normal/52.4288.csv\n",
      "Name: path, dtype: object\n",
      "---------------------------\n",
      "overhang\n",
      "1481       full/overhang/ball_fault/0g/61.44.csv\n",
      "1579     full/overhang/outer_race/6g/57.5488.csv\n",
      "1931    full/overhang/cage_fault/20g/32.1536.csv\n",
      "1911     full/overhang/cage_fault/20g/52.224.csv\n",
      "1949    full/overhang/cage_fault/20g/14.5408.csv\n",
      "Name: path, dtype: object\n",
      "---------------------------\n",
      "underhang\n",
      "355     full/underhang/ball_fault/0g/56.5248.csv\n",
      "662    full/underhang/outer_race/20g/21.0944.csv\n",
      "797       full/underhang/cage_fault/35g/25.6.csv\n",
      "677     full/underhang/cage_fault/6g/56.1152.csv\n",
      "559     full/underhang/outer_race/0g/38.7072.csv\n",
      "Name: path, dtype: object\n",
      "---------------------------\n",
      "vertical-misalignment\n",
      "194    full/vertical-misalignment/0.63mm/18.8416.csv\n",
      "256      full/vertical-misalignment/1.27mm/56.32.csv\n",
      "7       full/vertical-misalignment/1.78mm/54.272.csv\n",
      "84     full/vertical-misalignment/1.40mm/27.4432.csv\n",
      "9       full/vertical-misalignment/1.78mm/52.224.csv\n",
      "Name: path, dtype: object\n",
      "---------------------------\n"
     ]
    }
   ],
   "source": [
    "for key in classDict.keys():\n",
    "    print(key)\n",
    "    print(val_files5['path'][val_files5['CLASS'] == key].head())\n",
    "    print('---------------------------')"
   ]
  },
  {
   "cell_type": "code",
   "execution_count": null,
   "id": "b5b32517",
   "metadata": {},
   "outputs": [],
   "source": []
  }
 ],
 "metadata": {
  "kernelspec": {
   "display_name": "env",
   "language": "python",
   "name": "env"
  },
  "language_info": {
   "codemirror_mode": {
    "name": "ipython",
    "version": 3
   },
   "file_extension": ".py",
   "mimetype": "text/x-python",
   "name": "python",
   "nbconvert_exporter": "python",
   "pygments_lexer": "ipython3",
   "version": "3.9.5"
  }
 },
 "nbformat": 4,
 "nbformat_minor": 5
}
