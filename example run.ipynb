{
 "cells": [
  {
   "cell_type": "code",
   "execution_count": 1,
   "id": "f08b3860",
   "metadata": {},
   "outputs": [],
   "source": [
    "from utils.util import *"
   ]
  },
  {
   "cell_type": "markdown",
   "id": "09f49139",
   "metadata": {},
   "source": [
    "# Running sweep_window() on a simple config file\n",
    "## config: config/a_test.yaml\n",
    "        - randomly picks 4 files to sweep over with a 50,000 wide window\n",
    "## model: models/rfc_5sec\n",
    "        - model trained on all 5 seconds of data"
   ]
  },
  {
   "cell_type": "markdown",
   "id": "4a5e21de",
   "metadata": {},
   "source": [
    "### Setup environment variables (I know this is annoying, but I use them a lot since this was modified to run on the AC)"
   ]
  },
  {
   "cell_type": "code",
   "execution_count": 2,
   "id": "95a7861b",
   "metadata": {},
   "outputs": [],
   "source": [
    "cwd = !pwd\n",
    "os.environ['wpath']=cwd[0]\n",
    "\n",
    "os.environ['vpath']='./utils/test_files_1sec.csv'\n",
    "\n",
    "# the directory where raw MAFAULDA data is located. More specifically, my functions will look for the directory\n",
    "# that contains the \"full\" directory. \n",
    "# Example of MAFAULDA file structure: {MAFAULDA_PATH}/full/normal/12.288.csv\n",
    "os.environ['dpath']='../data/'\n",
    "\n",
    "util='utils/utils_1sec.json'\n",
    "os.environ['util']=util\n",
    "\n",
    "model='./models/rfc_1sec.joblib'\n",
    "os.environ['model']=model\n",
    "\n",
    "config='./config/a_test.yaml'"
   ]
  },
  {
   "cell_type": "code",
   "execution_count": 3,
   "id": "019c9993",
   "metadata": {},
   "outputs": [
    {
     "name": "stdout",
     "output_type": "stream",
     "text": [
      "1/1 -- 100.0%\n"
     ]
    }
   ],
   "source": [
    "sweep_window(config=config,model=model,util=util)"
   ]
  },
  {
   "cell_type": "code",
   "execution_count": 4,
   "id": "0d888d3b",
   "metadata": {},
   "outputs": [
    {
     "name": "stdout",
     "output_type": "stream",
     "text": [
      "output located in: ./plots/a_test\n"
     ]
    }
   ],
   "source": [
    "with open(config,'r') as stream:\n",
    "        try:\n",
    "            conf = yaml.safe_load(stream)\n",
    "        except yaml.YAMLError as exc:\n",
    "            print(exc)\n",
    "out_path=f\"{conf['default']['plot_path']}{conf['default']['experiment_name']}\"\n",
    "print(f\"output located in: {out_path}\")"
   ]
  },
  {
   "cell_type": "code",
   "execution_count": null,
   "id": "f927376f",
   "metadata": {},
   "outputs": [],
   "source": []
  }
 ],
 "metadata": {
  "kernelspec": {
   "display_name": "env",
   "language": "python",
   "name": "env"
  },
  "language_info": {
   "codemirror_mode": {
    "name": "ipython",
    "version": 3
   },
   "file_extension": ".py",
   "mimetype": "text/x-python",
   "name": "python",
   "nbconvert_exporter": "python",
   "pygments_lexer": "ipython3",
   "version": "3.9.5"
  }
 },
 "nbformat": 4,
 "nbformat_minor": 5
}
