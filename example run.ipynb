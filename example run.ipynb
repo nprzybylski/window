{
 "cells": [
  {
   "cell_type": "code",
   "execution_count": 1,
   "id": "f08b3860",
   "metadata": {},
   "outputs": [],
   "source": [
    "from utils.util import *"
   ]
  },
  {
   "cell_type": "markdown",
   "id": "b1a8d6a8",
   "metadata": {},
   "source": [
    "# Where to look:\n",
    "\n",
    "---------------------------------------------------------\n",
    "\n",
    "## Messing with plots:\n",
    "\n",
    "### plot with all signals stacked and predictions at the bottom\n",
    "    - ./utils/utils.py\n",
    "        ln 492: plot_window()\n",
    "\n",
    "### confusion matrix with histogram\n",
    "    - ./utils/utils.py\n",
    "        ln 375: confusion_hist_plot()\n",
    "        \n",
    "---------------------------------------------------------        \n",
    "        \n",
    "## Messing with config files:\n",
    "\n",
    "### basic template config\n",
    "    - ./config/a_test.yaml\n",
    "        modify \"n_files\" to change how many state transitions there are.\n",
    "        keep \"lo\" and \"hi\" for \"window_width\" the same to test a specific window width.\n",
    "        define a lower and upper bound for \"window_width\" to test multiple widths.\n",
    "        modify \"experiment_name\" to change the name of the experiment specific output directory.\n",
    "        \n",
    "---------------------------------------------------------"
   ]
  },
  {
   "cell_type": "markdown",
   "id": "09f49139",
   "metadata": {},
   "source": [
    "# Running sweep_window() on a simple config file\n",
    "## config: config/a_test.yaml\n",
    "        - randomly picks 6 files to sweep over with a 50,000 wide window\n",
    "## model: models/rfc_1sec.joblib\n",
    "        - model trained on 1 second slices of data"
   ]
  },
  {
   "cell_type": "markdown",
   "id": "4a5e21de",
   "metadata": {},
   "source": [
    "### Setup environment variables (I know this is annoying, but I use them a lot since this was modified to run on the AC)"
   ]
  },
  {
   "cell_type": "code",
   "execution_count": 2,
   "id": "95a7861b",
   "metadata": {},
   "outputs": [],
   "source": [
    "cwd = !pwd\n",
    "os.environ['wpath']=cwd[0]\n",
    "\n",
    "os.environ['vpath']='./utils/test_files_1sec.csv'\n",
    "\n",
    "# the directory where raw MAFAULDA data is located. More specifically, my functions will look for the directory\n",
    "# that contains the \"full\" directory. \n",
    "# Example of MAFAULDA file structure: {MAFAULDA_PATH}/full/normal/12.288.csv\n",
    "os.environ['dpath']='../data/'\n",
    "\n",
    "util='utils/utils.json'\n",
    "os.environ['util']=util\n",
    "\n",
    "model='./models/rfc_1sec.joblib'\n",
    "os.environ['model']=model\n",
    "\n",
    "config='./config/a_test0.yaml'"
   ]
  },
  {
   "cell_type": "code",
   "execution_count": 3,
   "id": "019c9993",
   "metadata": {},
   "outputs": [
    {
     "name": "stdout",
     "output_type": "stream",
     "text": [
      "[(10000, 50000)]\n",
      "DEBUG: /Users/nrprzybyl/ML/MAFAULDA/window/./utils/test_files_1sec.csv\n",
      "1/1 -- 100.0%\n",
      "zone_idxs: [0, 0, 0, 0, 0, 0, 0, 0, 0, 0, 0, 0, 0, 0, 0, 0, 0, 0, 0, 0, 0, 0, 0, 0, 0, 1, 1, 1, 1, 1, 1, 1, 1, 1, 1, 1, 1, 1, 1, 1, 1, 1, 1, 1, 1, 1, 1, 1, 1, 1, 2, 2, 2, 2, 2, 2, 2, 2, 2, 2, 2, 2, 2, 2, 2, 2, 2, 2, 2, 2, 2, 2, 2, 2, 2, 3, 3, 3, 3, 3, 3, 3, 3, 3, 3, 3, 3, 3, 3, 3, 3, 3, 3, 3, 3, 3, 3, 3, 3, 3, 4, 4, 4, 4, 4, 4, 4, 4, 4, 4, 4, 4, 4, 4, 4, 4, 4, 4, 4, 4, 4, 4, 4, 4, 4, 5, 5, 5, 5, 5, 5, 5, 5, 5, 5, 5, 5, 5, 5, 5, 5, 5, 5, 5, 5]\n",
      "true: [0, 0, 0, 0, 0, 0, 0, 0, 0, 0, 0, 0, 0, 0, 0, 0, 0, 0, 0, 0, 0, 3, 3, 3, 3]\n",
      "predicted: [0, 0, 0, 0, 0, 0, 0, 0, 0, 0, 0, 0, 0, 0, 0, 0, 0, 0, 0, 0, 0, 0, 4, 4, 4]\n",
      "true: [3, 3, 3, 3, 3, 3, 3, 3, 3, 3, 3, 3, 3, 3, 3, 3, 3, 3, 3, 3, 3, 4, 4, 4, 4]\n",
      "predicted: [3, 3, 3, 3, 3, 3, 3, 3, 3, 3, 3, 3, 3, 3, 3, 3, 3, 3, 3, 3, 3, 4, 4, 3, 4]\n",
      "true: [4, 4, 4, 4, 4, 4, 4, 4, 4, 4, 4, 4, 4, 4, 4, 4, 4, 4, 4, 4, 4, 1, 1, 1, 1]\n",
      "predicted: [4, 4, 4, 4, 4, 4, 4, 4, 4, 4, 4, 4, 4, 4, 4, 4, 4, 4, 4, 4, 4, 4, 4, 4, 1]\n",
      "true: [1, 1, 1, 1, 1, 1, 1, 1, 1, 1, 1, 1, 1, 1, 1, 1, 1, 1, 1, 1, 1, 5, 5, 5, 5]\n",
      "predicted: [1, 1, 1, 1, 1, 1, 1, 1, 1, 1, 1, 1, 1, 1, 1, 1, 1, 1, 1, 1, 1, 1, 5, 5, 5]\n",
      "true: [5, 5, 5, 5, 5, 5, 5, 5, 5, 5, 5, 5, 5, 5, 5, 5, 5, 5, 5, 5, 5, 2, 2, 2, 2]\n",
      "predicted: [5, 5, 5, 5, 5, 5, 5, 5, 5, 5, 5, 5, 5, 5, 5, 5, 5, 5, 5, 5, 5, 5, 5, 5, 2]\n",
      "true: [2, 2, 2, 2, 2, 2, 2, 2, 2, 2, 2, 2, 2, 2, 2, 2, 2, 2, 2, 2]\n",
      "predicted: [2, 2, 2, 2, 2, 2, 2, 2, 2, 2, 2, 2, 2, 2, 2, 2, 2, 2, 2, 2]\n"
     ]
    }
   ],
   "source": [
    "sweep_window(config=config,model=model,util=util)"
   ]
  },
  {
   "cell_type": "markdown",
   "id": "e7993889",
   "metadata": {},
   "source": [
    "# Understanding output naming convention\n",
    "\n",
    "    all output is stored in the ./plots directory.\n",
    "    \n",
    "    \"experiment_name\" in the config file determines the name of each experiment's specific output folder.\n",
    "    \n",
    "    Each experiment specific output folder has a json file called \"out\" and contains metadata from runs.\n",
    "    \n",
    "    If your config file only does 1 run where the window width is 50000 and the width per step is 10000, output for that run will be in 50000_10000.\n",
    "    \n",
    "    Each run specific directory should have two .PNGs in it:\n",
    "        idx0_idx1_..._idxn-2_idxn-1.png           = > stacked signals with predictions at bottom.\n",
    "        idx0_idx1_..._idxn-2_idxn-1 confusion.png = > confusion matrix w/ histogram.\n",
    "            \n",
    " \n",
    "\n"
   ]
  },
  {
   "cell_type": "code",
   "execution_count": 4,
   "id": "0d888d3b",
   "metadata": {},
   "outputs": [
    {
     "name": "stdout",
     "output_type": "stream",
     "text": [
      "output located in: ./plots/250k_test\n"
     ]
    }
   ],
   "source": [
    "with open(config,'r') as stream:\n",
    "        try:\n",
    "            conf = yaml.safe_load(stream)\n",
    "        except yaml.YAMLError as exc:\n",
    "            print(exc)\n",
    "out_path=f\"{conf['default']['plot_path']}{conf['default']['experiment_name']}\"\n",
    "print(f\"output located in: {out_path}\")"
   ]
  },
  {
   "cell_type": "code",
   "execution_count": 5,
   "id": "31c60a00",
   "metadata": {},
   "outputs": [
    {
     "data": {
      "text/plain": [
       "5"
      ]
     },
     "execution_count": 5,
     "metadata": {},
     "output_type": "execute_result"
    }
   ],
   "source": [
    "(250000-1+(125*10000))//250000"
   ]
  },
  {
   "cell_type": "code",
   "execution_count": 6,
   "id": "52f71c3e",
   "metadata": {},
   "outputs": [
    {
     "data": {
      "text/plain": [
       "0.002"
      ]
     },
     "execution_count": 6,
     "metadata": {},
     "output_type": "execute_result"
    }
   ],
   "source": [
    "500/250000"
   ]
  },
  {
   "cell_type": "code",
   "execution_count": 7,
   "id": "2f8b613c",
   "metadata": {},
   "outputs": [
    {
     "data": {
      "text/plain": [
       "1"
      ]
     },
     "execution_count": 7,
     "metadata": {},
     "output_type": "execute_result"
    }
   ],
   "source": [
    "250000//250000"
   ]
  }
 ],
 "metadata": {
  "kernelspec": {
   "display_name": "env",
   "language": "python",
   "name": "env"
  },
  "language_info": {
   "codemirror_mode": {
    "name": "ipython",
    "version": 3
   },
   "file_extension": ".py",
   "mimetype": "text/x-python",
   "name": "python",
   "nbconvert_exporter": "python",
   "pygments_lexer": "ipython3",
   "version": "3.9.5"
  }
 },
 "nbformat": 4,
 "nbformat_minor": 5
}
